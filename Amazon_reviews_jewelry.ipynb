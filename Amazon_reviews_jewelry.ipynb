{
  "nbformat": 4,
  "nbformat_minor": 0,
  "metadata": {
    "colab": {
      "name": "Amazon_reviews.ipynb",
      "provenance": [],
      "authorship_tag": "ABX9TyOjNVblyFTU5j6oLlvpsCC7",
      "include_colab_link": true
    },
    "kernelspec": {
      "name": "python3",
      "display_name": "Python 3"
    }
  },
  "cells": [
    {
      "cell_type": "markdown",
      "metadata": {
        "id": "view-in-github",
        "colab_type": "text"
      },
      "source": [
        "<a href=\"https://colab.research.google.com/github/luisantoniococa/Spark_Big_Data_Amazon_Reviews_Analysis/blob/master/Amazon_reviews.ipynb\" target=\"_parent\"><img src=\"https://colab.research.google.com/assets/colab-badge.svg\" alt=\"Open In Colab\"/></a>"
      ]
    },
    {
      "cell_type": "code",
      "metadata": {
        "id": "wK6Sg5lDzy17",
        "colab_type": "code",
        "colab": {}
      },
      "source": [
        "# Install Java, Spark, and Findspark\n",
        "!apt-get install openjdk-8-jdk-headless -qq > /dev/null\n",
        "!wget -q http://www-us.apache.org/dist/spark/spark-2.4.5/spark-2.4.5-bin-hadoop2.7.tgz\n",
        "!tar xf spark-2.4.5-bin-hadoop2.7.tgz\n",
        "!pip install -q findspark\n",
        "\n",
        "# Set Environment Variables\n",
        "import os\n",
        "os.environ[\"JAVA_HOME\"] = \"/usr/lib/jvm/java-8-openjdk-amd64\"\n",
        "os.environ[\"SPARK_HOME\"] = \"/content/spark-2.4.5-bin-hadoop2.7\"\n",
        "\n",
        "# Start a SparkSession\n",
        "import findspark\n",
        "findspark.init()"
      ],
      "execution_count": 0,
      "outputs": []
    },
    {
      "cell_type": "code",
      "metadata": {
        "id": "mty-ACwuz7On",
        "colab_type": "code",
        "outputId": "014b0aec-ad6a-40e8-d6b6-7d4e71b9493c",
        "colab": {
          "base_uri": "https://localhost:8080/",
          "height": 208
        }
      },
      "source": [
        "!wget https://jdbc.postgresql.org/download/postgresql-42.2.9.jar"
      ],
      "execution_count": 39,
      "outputs": [
        {
          "output_type": "stream",
          "text": [
            "--2020-04-15 16:15:24--  https://jdbc.postgresql.org/download/postgresql-42.2.9.jar\n",
            "Resolving jdbc.postgresql.org (jdbc.postgresql.org)... 72.32.157.228, 2001:4800:3e1:1::228\n",
            "Connecting to jdbc.postgresql.org (jdbc.postgresql.org)|72.32.157.228|:443... connected.\n",
            "HTTP request sent, awaiting response... 200 OK\n",
            "Length: 914037 (893K) [application/java-archive]\n",
            "Saving to: ‘postgresql-42.2.9.jar.1’\n",
            "\n",
            "\rpostgresql-42.2.9.j   0%[                    ]       0  --.-KB/s               \rpostgresql-42.2.9.j 100%[===================>] 892.61K  --.-KB/s    in 0.1s    \n",
            "\n",
            "2020-04-15 16:15:25 (8.52 MB/s) - ‘postgresql-42.2.9.jar.1’ saved [914037/914037]\n",
            "\n"
          ],
          "name": "stdout"
        }
      ]
    },
    {
      "cell_type": "code",
      "metadata": {
        "id": "22cmdgizz81F",
        "colab_type": "code",
        "colab": {}
      },
      "source": [
        "from pyspark.sql import SparkSession\n",
        "spark = SparkSession.builder.appName(\"CloudETL\").config(\"spark.driver.extraClassPath\",\"/content/postgresql-42.2.9.jar\").getOrCreate()"
      ],
      "execution_count": 0,
      "outputs": []
    },
    {
      "cell_type": "code",
      "metadata": {
        "id": "Z1YZdqq70LZ0",
        "colab_type": "code",
        "outputId": "9600834b-5777-46b8-db31-aafd1460e447",
        "colab": {
          "base_uri": "https://localhost:8080/",
          "height": 494
        }
      },
      "source": [
        "# Read in data from S3 Buckets\n",
        "from pyspark import SparkFiles\n",
        "url=\"https://s3.amazonaws.com/amazon-reviews-pds/tsv/amazon_reviews_us_Jewelry_v1_00.tsv.gz\"\n",
        "spark.sparkContext.addFile(url)\n",
        "jewelry_data_df = spark.read.csv(SparkFiles.get(\"amazon_reviews_us_Jewelry_v1_00.tsv.gz\"), sep=\"\\t\", header=True, inferSchema=True)\n",
        "\n",
        "# Show DataFrame\n",
        "jewelry_data_df.show()"
      ],
      "execution_count": 41,
      "outputs": [
        {
          "output_type": "stream",
          "text": [
            "+-----------+-----------+--------------+----------+--------------+--------------------+----------------+-----------+-------------+-----------+----+-----------------+--------------------+--------------------+-------------------+\n",
            "|marketplace|customer_id|     review_id|product_id|product_parent|       product_title|product_category|star_rating|helpful_votes|total_votes|vine|verified_purchase|     review_headline|         review_body|        review_date|\n",
            "+-----------+-----------+--------------+----------+--------------+--------------------+----------------+-----------+-------------+-----------+----+-----------------+--------------------+--------------------+-------------------+\n",
            "|         US|   50423057|R135Q3VZ4DQN5N|B00JWXFDMG|     657335467|Everbling Purple ...|         Jewelry|          5|            0|          0|   N|                Y|           Beauties!|so beautiful even...|2015-08-31 00:00:00|\n",
            "|         US|   11262325|R2N0QQ6R4T7YRY|B00W5T1H9W|      26030170|925 Sterling Silv...|         Jewelry|          5|            0|          0|   N|                N|      Great product.|Great product.. I...|2015-08-31 00:00:00|\n",
            "|         US|   27541121|R3N5JE5Y4T6W5M|B00M2L6KFY|     697845240|Sterling Silver C...|         Jewelry|          5|            0|          0|   N|                Y|Exactly as pictur...|Exactly as pictur...|2015-08-31 00:00:00|\n",
            "|         US|    5350721|R2I150CX5IVY9Q|B0006SW2WU|     569859289|Surgical Stainles...|         Jewelry|          5|            0|          0|   N|                Y|          Five Stars|Love it. Fits gre...|2015-08-31 00:00:00|\n",
            "|         US|   24484424|R1RM9ICOOA9MQ3|B009YPDW70|     332947422|Sterling Silver F...|         Jewelry|          5|            0|          0|   N|                Y|... a Mother's Da...|Got this as a Mot...|2015-08-31 00:00:00|\n",
            "|         US|     457767|R2J2KMDL10UMSH|B00QGA8XZM|     424804582|CHOOSE YOUR COLOR...|         Jewelry|          5|            0|          0|   N|                Y|          Five Stars|I Love It Make Me...|2015-08-31 00:00:00|\n",
            "|         US|   31009358|R3R9ZUFA4TB4FQ|B00L0N0E8E|     589441783|Metal Factory 925...|         Jewelry|          5|            0|          0|   N|                Y|          Five Stars|True to size, unique|2015-08-31 00:00:00|\n",
            "|         US|    7034628|R3UQ8VAQN7R6WL|B00DMWQKWA|     517428445|niceEshop(TM)Clas...|         Jewelry|          5|            0|          0|   N|                Y|          Five Stars|This necklace is ...|2015-08-31 00:00:00|\n",
            "|         US|   34608636|R1FXZ69C01JNQM|B00THLHAGA|     320313750|Genuine Natural B...|         Jewelry|          5|            0|          0|   N|                Y|          Five Stars|        just perfect|2015-08-31 00:00:00|\n",
            "|         US|   44972687| RY36LB4OW0FFS|B00UXSEOHY|     589365488|MBOX Expandable A...|         Jewelry|          5|            0|          0|   N|                Y|          Five Stars|           Love it !|2015-08-31 00:00:00|\n",
            "|         US|   16684508| R6PKS54PC6ZY2|B00XGRYGVS|     217045013|Set of 3 Nose Rin...|         Jewelry|          1|            4|          4|   N|                Y|I had high hopes ...|They didn't even ...|2015-08-31 00:00:00|\n",
            "|         US|   23493178|R1LYSAH0IECVWB|B00AJ2VU8A|     972853757|3-row White A Gra...|         Jewelry|          5|            0|          0|   N|                Y|This is a real ni...|This is a real ni...|2015-08-31 00:00:00|\n",
            "|         US|     108294|R1UN0IZI3XQ3E2|B00LE5Y100|     979375701|KONOV Mens Stainl...|         Jewelry|          5|            2|          3|   N|                Y|             AMAZING|This is a very co...|2015-08-31 00:00:00|\n",
            "|         US|   25810742| RIKDXD8QGL99S|B013E0AOH6|     619592796|TEMEGO Jewelry Me...|         Jewelry|          5|            1|          1|   N|                Y|          Five Stars|Great quality for...|2015-08-31 00:00:00|\n",
            "|         US|   12037665| RUZCQTXZVGUFH|B00XAWUP96|     783863439|Royal Blue/White ...|         Jewelry|          4|            1|          1|   N|                Y|A Little Smaller ...|I like the bracel...|2015-08-31 00:00:00|\n",
            "|         US|   51793466|R35CD4IHO3RP9H|B00WD82F1O|     655270378|10-11mm Baroque F...|         Jewelry|          5|            1|          1|   N|                Y|Pretty and Versatile|This is pretty an...|2015-08-31 00:00:00|\n",
            "|         US|     127508|R13YD66XC9221U|B00JP4XCSO|     592155747|Sankuwen® Fashion...|         Jewelry|          1|            0|          0|   N|                N|Don't get this li...|Don't get this li...|2015-08-31 00:00:00|\n",
            "|         US|   38430946| RHWG4JRVDSEYY|B00PZSM384|     622179716|zjskin6688 store ...|         Jewelry|          3|            1|          1|   N|                Y|         Three Stars|Not what I expect...|2015-08-31 00:00:00|\n",
            "|         US|   33684654|R3SPIKMJ5IWHX8|B00VLMW18K|      36759824|Scheppend Polymer...|         Jewelry|          4|            0|          0|   N|                Y|          Four Stars|Bought these for ...|2015-08-31 00:00:00|\n",
            "|         US|    5068631| RS19ACU7KWWNE|B00U5LDBB4|     575109200|Horizontal Sidewa...|         Jewelry|          5|            1|          1|   N|                Y|          Five Stars|Pretty, and very ...|2015-08-31 00:00:00|\n",
            "+-----------+-----------+--------------+----------+--------------+--------------------+----------------+-----------+-------------+-----------+----+-----------------+--------------------+--------------------+-------------------+\n",
            "only showing top 20 rows\n",
            "\n"
          ],
          "name": "stdout"
        }
      ]
    },
    {
      "cell_type": "code",
      "metadata": {
        "id": "si48Du3p1k4c",
        "colab_type": "code",
        "outputId": "226f8d80-077f-451d-b83b-f4b1232b5fb3",
        "colab": {
          "base_uri": "https://localhost:8080/",
          "height": 316
        }
      },
      "source": [
        "# print the data schemata to identify the differents columns\n",
        "jewelry_data_df.printSchema()"
      ],
      "execution_count": 42,
      "outputs": [
        {
          "output_type": "stream",
          "text": [
            "root\n",
            " |-- marketplace: string (nullable = true)\n",
            " |-- customer_id: integer (nullable = true)\n",
            " |-- review_id: string (nullable = true)\n",
            " |-- product_id: string (nullable = true)\n",
            " |-- product_parent: integer (nullable = true)\n",
            " |-- product_title: string (nullable = true)\n",
            " |-- product_category: string (nullable = true)\n",
            " |-- star_rating: string (nullable = true)\n",
            " |-- helpful_votes: integer (nullable = true)\n",
            " |-- total_votes: integer (nullable = true)\n",
            " |-- vine: string (nullable = true)\n",
            " |-- verified_purchase: string (nullable = true)\n",
            " |-- review_headline: string (nullable = true)\n",
            " |-- review_body: string (nullable = true)\n",
            " |-- review_date: timestamp (nullable = true)\n",
            "\n"
          ],
          "name": "stdout"
        }
      ]
    },
    {
      "cell_type": "code",
      "metadata": {
        "id": "08KF4iFa5C_J",
        "colab_type": "code",
        "colab": {
          "base_uri": "https://localhost:8080/",
          "height": 34
        },
        "outputId": "e73840ad-3345-4007-e951-34e2f8f456b2"
      },
      "source": [
        "# Get the amount fo rows in the dataframe\n",
        "jewelry_data_df.count()"
      ],
      "execution_count": 43,
      "outputs": [
        {
          "output_type": "execute_result",
          "data": {
            "text/plain": [
              "1767753"
            ]
          },
          "metadata": {
            "tags": []
          },
          "execution_count": 43
        }
      ]
    },
    {
      "cell_type": "code",
      "metadata": {
        "id": "zirmPcbYoGdL",
        "colab_type": "code",
        "colab": {
          "base_uri": "https://localhost:8080/",
          "height": 34
        },
        "outputId": "b40035f6-3e4d-4991-e73d-3e1fd4a3d0a4"
      },
      "source": [
        "# Drop the na values and drop duplicates values \n",
        "dropna_df = jewelry_data_df.dropna()\n",
        "dropduplicates_df = dropna_df.dropDuplicates()\n",
        "\n",
        "dropduplicates_df.count()"
      ],
      "execution_count": 44,
      "outputs": [
        {
          "output_type": "execute_result",
          "data": {
            "text/plain": [
              "1767394"
            ]
          },
          "metadata": {
            "tags": []
          },
          "execution_count": 44
        }
      ]
    },
    {
      "cell_type": "code",
      "metadata": {
        "id": "HIbpbthwohlu",
        "colab_type": "code",
        "colab": {
          "base_uri": "https://localhost:8080/",
          "height": 474
        },
        "outputId": "d73b10a1-cbe3-4e20-8c69-da2ed7571d3c"
      },
      "source": [
        "from pyspark.sql.functions import to_date\n",
        "# review the DataFrame and transform the date column to date\n",
        "review_id_df = dropduplicates_df.select([\"review_id\", \"customer_id\", \"product_id\", \n",
        "                                       \"product_parent\", \n",
        "                                       to_date(\"review_date\", 'yyyy-MM-dd').alias(\"review_date\")]) # using .alias works as in sql\n",
        "review_id_df.show()"
      ],
      "execution_count": 45,
      "outputs": [
        {
          "output_type": "stream",
          "text": [
            "+--------------+-----------+----------+--------------+-----------+\n",
            "|     review_id|customer_id|product_id|product_parent|review_date|\n",
            "+--------------+-----------+----------+--------------+-----------+\n",
            "|R1001WBBDL0FZV|   23386199|B00EQDCO24|     864125801| 2014-07-31|\n",
            "|R1004GO1PYBZ4B|   29873923|B00MUN8KHA|     635123005| 2015-06-02|\n",
            "|R100MMJ11EQN2Y|   26499325|B007SYKBXM|     796678590| 2013-02-05|\n",
            "|R100XMJO9EM9BA|    3275800|B00CDJX87S|     555898816| 2014-08-03|\n",
            "|R1014FLXHNOPI0|   34768821|B002MQ9EBG|     864672827| 2015-05-25|\n",
            "|R101Y79X8R3B0V|   11130117|B00MBCUCB2|     851328672| 2015-05-15|\n",
            "|R102CKN6J3NJOA|   40395829|B00L365T7O|     543506306| 2015-06-04|\n",
            "|R102G1MA1CDH0W|   53012317|B001L7PESE|     664095849| 2008-12-20|\n",
            "|R102P1F7APXDMR|   24967469|B00CDGTHVW|     536118532| 2014-08-23|\n",
            "|R102UX37P1SSZ9|   48462918|B00CGSXJH0|     255117861| 2015-08-29|\n",
            "|R102WVZLK77W9O|   33180135|B003ZDOPRI|     697802402| 2013-10-12|\n",
            "|R1032ANR3J8KTX|    2869948|B008BY9N0A|     642816768| 2014-08-08|\n",
            "|R103CD9VELSSWO|     443837|B00RO6YGXA|     998221854| 2015-04-03|\n",
            "|R104SFUWPZGNKA|   31462035|B009R87SQU|     235825103| 2013-02-08|\n",
            "|R106THPANL0NU1|   28971699|B00CSTVU5U|     755341131| 2014-12-17|\n",
            "|R107F6ROA43JLE|   13839508|B005J2F5AE|     767921547| 2015-01-03|\n",
            "|R1080O8E8PCHS8|   42403140|B00QL9HGLU|     896230140| 2015-03-12|\n",
            "|R108BK2ES9NLP7|    1685098|B00KA3ROE2|     113262577| 2015-06-02|\n",
            "|R108PG82S5XD0H|   12697137|B007WNWEFC|     475596325| 2013-02-26|\n",
            "|R1093MLT98AOW9|    1905529|B00AAJT5S4|     795633156| 2014-10-31|\n",
            "+--------------+-----------+----------+--------------+-----------+\n",
            "only showing top 20 rows\n",
            "\n"
          ],
          "name": "stdout"
        }
      ]
    },
    {
      "cell_type": "code",
      "metadata": {
        "id": "z9bbzjz2ohpu",
        "colab_type": "code",
        "colab": {}
      },
      "source": [
        "# finding duplicates values by ID and dropping them\n",
        "\n",
        "products_df = jewelry_data_df.select(['product_id', 'product_title'])\n",
        "products_df = products_df.drop_duplicates(subset = ['product_id'])\n",
        "# changed drop_duplicates() for dropDuplicates() important to add the subset \n"
      ],
      "execution_count": 0,
      "outputs": []
    },
    {
      "cell_type": "code",
      "metadata": {
        "id": "W2nZAfkUohuU",
        "colab_type": "code",
        "colab": {
          "base_uri": "https://localhost:8080/",
          "height": 474
        },
        "outputId": "0222ef12-5037-4ae2-a15d-beba540c34a5"
      },
      "source": [
        "new_df = products_df.groupBy('product_id').count().orderBy('count', ascending=False)\n",
        "new_df.show()"
      ],
      "execution_count": 52,
      "outputs": [
        {
          "output_type": "stream",
          "text": [
            "+----------+-----+\n",
            "|product_id|count|\n",
            "+----------+-----+\n",
            "|B00SCVJBAY|    1|\n",
            "|B00QRJMR8Q|    1|\n",
            "|B008BK2SCE|    1|\n",
            "|B0119H2FEQ|    1|\n",
            "|B0122U1X8S|    1|\n",
            "|B00Y9FTS46|    1|\n",
            "|B00O8XR67U|    1|\n",
            "|B002AQ3K36|    1|\n",
            "|B00BQQUW6E|    1|\n",
            "|B007X2NVHC|    1|\n",
            "|B00LKP6IQ4|    1|\n",
            "|B00CWF9CQY|    1|\n",
            "|B00HNGOC1W|    1|\n",
            "|B00CZ7HO0U|    1|\n",
            "|B00DS2PWZK|    1|\n",
            "|B00N0SHG6U|    1|\n",
            "|B001QVPNVI|    1|\n",
            "|B00SPSV7HY|    1|\n",
            "|B00TAH56N0|    1|\n",
            "|B004QI8GMG|    1|\n",
            "+----------+-----+\n",
            "only showing top 20 rows\n",
            "\n"
          ],
          "name": "stdout"
        }
      ]
    },
    {
      "cell_type": "code",
      "metadata": {
        "id": "s7LR58aLohxQ",
        "colab_type": "code",
        "colab": {
          "base_uri": "https://localhost:8080/",
          "height": 122
        },
        "outputId": "99197321-030e-42d3-c1e6-c9f7bb89d764"
      },
      "source": [
        "# check for duplicates since sql table has a unique condition for product_id Column\n",
        "products_df.filter(products_df['product_id'] == 'B004NMC1M6').show()"
      ],
      "execution_count": 53,
      "outputs": [
        {
          "output_type": "stream",
          "text": [
            "+----------+--------------------+\n",
            "|product_id|       product_title|\n",
            "+----------+--------------------+\n",
            "|B004NMC1M6|Sterling Silver P...|\n",
            "+----------+--------------------+\n",
            "\n"
          ],
          "name": "stdout"
        }
      ]
    },
    {
      "cell_type": "code",
      "metadata": {
        "id": "uz7d5SpBohz9",
        "colab_type": "code",
        "colab": {
          "base_uri": "https://localhost:8080/",
          "height": 298
        },
        "outputId": "c27f31fa-24e3-4d45-a98f-627cb2e5fdca"
      },
      "source": [
        "# reviews df for sql table \n",
        "reviews_df = jewelry_data_df.select(['review_id','review_headline','review_body'])\n",
        "reviews_df.show(10)"
      ],
      "execution_count": 54,
      "outputs": [
        {
          "output_type": "stream",
          "text": [
            "+--------------+--------------------+--------------------+\n",
            "|     review_id|     review_headline|         review_body|\n",
            "+--------------+--------------------+--------------------+\n",
            "|R135Q3VZ4DQN5N|           Beauties!|so beautiful even...|\n",
            "|R2N0QQ6R4T7YRY|      Great product.|Great product.. I...|\n",
            "|R3N5JE5Y4T6W5M|Exactly as pictur...|Exactly as pictur...|\n",
            "|R2I150CX5IVY9Q|          Five Stars|Love it. Fits gre...|\n",
            "|R1RM9ICOOA9MQ3|... a Mother's Da...|Got this as a Mot...|\n",
            "|R2J2KMDL10UMSH|          Five Stars|I Love It Make Me...|\n",
            "|R3R9ZUFA4TB4FQ|          Five Stars|True to size, unique|\n",
            "|R3UQ8VAQN7R6WL|          Five Stars|This necklace is ...|\n",
            "|R1FXZ69C01JNQM|          Five Stars|        just perfect|\n",
            "| RY36LB4OW0FFS|          Five Stars|           Love it !|\n",
            "+--------------+--------------------+--------------------+\n",
            "only showing top 10 rows\n",
            "\n"
          ],
          "name": "stdout"
        }
      ]
    },
    {
      "cell_type": "code",
      "metadata": {
        "id": "PHqgROJnzmEQ",
        "colab_type": "code",
        "colab": {
          "base_uri": "https://localhost:8080/",
          "height": 474
        },
        "outputId": "7c60a44c-9a87-49fe-877a-260162efa691"
      },
      "source": [
        "customer_df = jewelry_data_df.groupby('customer_id').agg({'customer_id': 'count'}).withColumnRenamed('count(customer_id)','customer_count')\n",
        "customer_df.show()"
      ],
      "execution_count": 61,
      "outputs": [
        {
          "output_type": "stream",
          "text": [
            "+-----------+--------------+\n",
            "|customer_id|customer_count|\n",
            "+-----------+--------------+\n",
            "|   45657423|             1|\n",
            "|   47663761|             1|\n",
            "|   11931196|             1|\n",
            "|   44620216|             1|\n",
            "|    1167081|             1|\n",
            "|   17682867|             1|\n",
            "|   10782454|             1|\n",
            "|   51881951|             1|\n",
            "|    1537684|             1|\n",
            "|   17133428|             5|\n",
            "|     661760|             1|\n",
            "|    9867391|             9|\n",
            "|   31268594|             1|\n",
            "|   48581590|             1|\n",
            "|   32466409|             3|\n",
            "|   38490515|             1|\n",
            "|   41318181|             4|\n",
            "|   18800155|             6|\n",
            "|   46306239|             1|\n",
            "|   28409312|             1|\n",
            "+-----------+--------------+\n",
            "only showing top 20 rows\n",
            "\n"
          ],
          "name": "stdout"
        }
      ]
    },
    {
      "cell_type": "code",
      "metadata": {
        "id": "dOX9AqRGuhN5",
        "colab_type": "code",
        "colab": {
          "base_uri": "https://localhost:8080/",
          "height": 34
        },
        "outputId": "8223e6a2-282c-4c4f-827e-e87e20a0d34d"
      },
      "source": [
        "customer_df.count()"
      ],
      "execution_count": 62,
      "outputs": [
        {
          "output_type": "execute_result",
          "data": {
            "text/plain": [
              "1069439"
            ]
          },
          "metadata": {
            "tags": []
          },
          "execution_count": 62
        }
      ]
    },
    {
      "cell_type": "code",
      "metadata": {
        "id": "aC2NNLyquihV",
        "colab_type": "code",
        "colab": {
          "base_uri": "https://localhost:8080/",
          "height": 298
        },
        "outputId": "6853cfb3-5d65-47d4-c6d9-c1922c586442"
      },
      "source": [
        "vine_df = jewelry_data_df.select(['review_id','star_rating','helpful_votes','total_votes','vine'])\n",
        "vine_df.show(10)\n"
      ],
      "execution_count": 57,
      "outputs": [
        {
          "output_type": "stream",
          "text": [
            "+--------------+-----------+-------------+-----------+----+\n",
            "|     review_id|star_rating|helpful_votes|total_votes|vine|\n",
            "+--------------+-----------+-------------+-----------+----+\n",
            "|R135Q3VZ4DQN5N|          5|            0|          0|   N|\n",
            "|R2N0QQ6R4T7YRY|          5|            0|          0|   N|\n",
            "|R3N5JE5Y4T6W5M|          5|            0|          0|   N|\n",
            "|R2I150CX5IVY9Q|          5|            0|          0|   N|\n",
            "|R1RM9ICOOA9MQ3|          5|            0|          0|   N|\n",
            "|R2J2KMDL10UMSH|          5|            0|          0|   N|\n",
            "|R3R9ZUFA4TB4FQ|          5|            0|          0|   N|\n",
            "|R3UQ8VAQN7R6WL|          5|            0|          0|   N|\n",
            "|R1FXZ69C01JNQM|          5|            0|          0|   N|\n",
            "| RY36LB4OW0FFS|          5|            0|          0|   N|\n",
            "+--------------+-----------+-------------+-----------+----+\n",
            "only showing top 10 rows\n",
            "\n"
          ],
          "name": "stdout"
        }
      ]
    },
    {
      "cell_type": "markdown",
      "metadata": {
        "id": "jvDEkcSLur5A",
        "colab_type": "text"
      },
      "source": [
        "## Pushing created dfs into AWS RDS postgres connected DB"
      ]
    },
    {
      "cell_type": "code",
      "metadata": {
        "id": "0kzrJP7tuj4X",
        "colab_type": "code",
        "colab": {}
      },
      "source": [
        "mode = 'append'\n",
        "jdbc_url=\"jdbc:postgresql://<endpoint>:5432/Amazon_reviews_db\"\n",
        "config = {\"user\":\"<user>\", \n",
        "          \"password\": \"<password>\", \n",
        "          \"driver\":\"org.postgresql.Driver\"}"
      ],
      "execution_count": 0,
      "outputs": []
    },
    {
      "cell_type": "code",
      "metadata": {
        "id": "JO9imtzyu5su",
        "colab_type": "code",
        "colab": {}
      },
      "source": [
        "# write the review_id_df to the table in RDS\n",
        "review_id_df.write.jdbc(url=jdbc_url, table='review_id_table', mode=mode, properties=config)\n"
      ],
      "execution_count": 0,
      "outputs": []
    },
    {
      "cell_type": "code",
      "metadata": {
        "id": "bnkCNDjvu9DS",
        "colab_type": "code",
        "colab": {}
      },
      "source": [
        "# write the products_df to table in RDS\n",
        "products_df.write.jdbc(url=jdbc_url, table='products', mode=mode, properties=config)"
      ],
      "execution_count": 0,
      "outputs": []
    },
    {
      "cell_type": "code",
      "metadata": {
        "id": "4nFRVZBzvD9D",
        "colab_type": "code",
        "colab": {}
      },
      "source": [
        "# Write customers_df to table in RDS\n",
        "customer_df.write.jdbc(url=jdbc_url, table='customers', mode=mode, properties=config)"
      ],
      "execution_count": 0,
      "outputs": []
    },
    {
      "cell_type": "code",
      "metadata": {
        "id": "3gl0f2cFzf60",
        "colab_type": "code",
        "colab": {}
      },
      "source": [
        "# Write vine_df to table in RDS\n",
        "vine_df.write.jdbc(url=jdbc_url, table='vines', mode=mode, properties=config)"
      ],
      "execution_count": 0,
      "outputs": []
    },
    {
      "cell_type": "code",
      "metadata": {
        "id": "D4h3Dv-Q4XL0",
        "colab_type": "code",
        "colab": {}
      },
      "source": [
        ""
      ],
      "execution_count": 0,
      "outputs": []
    }
  ]
}
