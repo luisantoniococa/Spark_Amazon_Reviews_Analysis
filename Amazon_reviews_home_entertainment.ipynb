{
  "nbformat": 4,
  "nbformat_minor": 0,
  "metadata": {
    "colab": {
      "name": "Amazon_reviews_home_entertainment.ipynb",
      "provenance": [],
      "authorship_tag": "ABX9TyPfvM8oc4tiX4WMJF841ihQ",
      "include_colab_link": true
    },
    "kernelspec": {
      "name": "python3",
      "display_name": "Python 3"
    }
  },
  "cells": [
    {
      "cell_type": "markdown",
      "metadata": {
        "id": "view-in-github",
        "colab_type": "text"
      },
      "source": [
        "<a href=\"https://colab.research.google.com/github/luisantoniococa/Spark_Big_Data_Amazon_Reviews_Analysis/blob/master/Amazon_reviews_home_entertainment.ipynb\" target=\"_parent\"><img src=\"https://colab.research.google.com/assets/colab-badge.svg\" alt=\"Open In Colab\"/></a>"
      ]
    },
    {
      "cell_type": "code",
      "metadata": {
        "id": "wK6Sg5lDzy17",
        "colab_type": "code",
        "colab": {}
      },
      "source": [
        "# Install Java, Spark, and Findspark\n",
        "!apt-get install openjdk-8-jdk-headless -qq > /dev/null\n",
        "!wget -q http://www-us.apache.org/dist/spark/spark-2.4.5/spark-2.4.5-bin-hadoop2.7.tgz\n",
        "!tar xf spark-2.4.5-bin-hadoop2.7.tgz\n",
        "!pip install -q findspark\n",
        "\n",
        "# Set Environment Variables\n",
        "import os\n",
        "os.environ[\"JAVA_HOME\"] = \"/usr/lib/jvm/java-8-openjdk-amd64\"\n",
        "os.environ[\"SPARK_HOME\"] = \"/content/spark-2.4.5-bin-hadoop2.7\"\n",
        "\n",
        "# Start a SparkSession\n",
        "import findspark\n",
        "findspark.init()"
      ],
      "execution_count": 0,
      "outputs": []
    },
    {
      "cell_type": "code",
      "metadata": {
        "id": "mty-ACwuz7On",
        "colab_type": "code",
        "outputId": "014b0aec-ad6a-40e8-d6b6-7d4e71b9493c",
        "colab": {
          "base_uri": "https://localhost:8080/",
          "height": 210
        }
      },
      "source": [
        "!wget https://jdbc.postgresql.org/download/postgresql-42.2.9.jar"
      ],
      "execution_count": 39,
      "outputs": [
        {
          "output_type": "stream",
          "text": [
            "--2020-04-15 16:15:24--  https://jdbc.postgresql.org/download/postgresql-42.2.9.jar\n",
            "Resolving jdbc.postgresql.org (jdbc.postgresql.org)... 72.32.157.228, 2001:4800:3e1:1::228\n",
            "Connecting to jdbc.postgresql.org (jdbc.postgresql.org)|72.32.157.228|:443... connected.\n",
            "HTTP request sent, awaiting response... 200 OK\n",
            "Length: 914037 (893K) [application/java-archive]\n",
            "Saving to: ‘postgresql-42.2.9.jar.1’\n",
            "\n",
            "\rpostgresql-42.2.9.j   0%[                    ]       0  --.-KB/s               \rpostgresql-42.2.9.j 100%[===================>] 892.61K  --.-KB/s    in 0.1s    \n",
            "\n",
            "2020-04-15 16:15:25 (8.52 MB/s) - ‘postgresql-42.2.9.jar.1’ saved [914037/914037]\n",
            "\n"
          ],
          "name": "stdout"
        }
      ]
    },
    {
      "cell_type": "code",
      "metadata": {
        "id": "22cmdgizz81F",
        "colab_type": "code",
        "colab": {}
      },
      "source": [
        "from pyspark.sql import SparkSession\n",
        "spark = SparkSession.builder.appName(\"CloudETL\").config(\"spark.driver.extraClassPath\",\"/content/postgresql-42.2.9.jar\").getOrCreate()"
      ],
      "execution_count": 0,
      "outputs": []
    },
    {
      "cell_type": "code",
      "metadata": {
        "id": "Z1YZdqq70LZ0",
        "colab_type": "code",
        "outputId": "ab7f5ade-711d-4809-e825-d3b28336c2e0",
        "colab": {
          "base_uri": "https://localhost:8080/",
          "height": 494
        }
      },
      "source": [
        "# Read in data from S3 Buckets\n",
        "from pyspark import SparkFiles\n",
        "# url=\"https://s3.amazonaws.com/amazon-reviews-pds/tsv/amazon_reviews_us_Jewelry_v1_00.tsv.gz\" # for jewerly\n",
        "url = 'https://s3.amazonaws.com/amazon-reviews-pds/tsv/amazon_reviews_us_Home_Entertainment_v1_00.tsv.gz'\n",
        "spark.sparkContext.addFile(url)\n",
        "homeenter_data_df = spark.read.csv(SparkFiles.get(\"amazon_reviews_us_Home_Entertainment_v1_00.tsv.gz\"), sep=\"\\t\", header=True, inferSchema=True)\n",
        "\n",
        "# Show DataFrame\n",
        "homeenter_data_df.show()"
      ],
      "execution_count": 77,
      "outputs": [
        {
          "output_type": "stream",
          "text": [
            "+-----------+-----------+--------------+----------+--------------+--------------------+------------------+-----------+-------------+-----------+----+-----------------+--------------------+--------------------+-------------------+\n",
            "|marketplace|customer_id|     review_id|product_id|product_parent|       product_title|  product_category|star_rating|helpful_votes|total_votes|vine|verified_purchase|     review_headline|         review_body|        review_date|\n",
            "+-----------+-----------+--------------+----------+--------------+--------------------+------------------+-----------+-------------+-----------+----+-----------------+--------------------+--------------------+-------------------+\n",
            "|         US|     179886| RY01SAV7HZ8QO|B00NTI0CQ2|     667358431|Aketek 1080P LED ...|Home Entertainment|          4|            0|          0|   N|                Y|good enough for m...|not the best pict...|2015-08-31 00:00:00|\n",
            "|         US|   37293769|R1XX8SDGJ4MZ4L|B00BUCLVZU|     621695622|TiVo Mini with IR...|Home Entertainment|          5|            0|          0|   N|                N|Tell the Cable Co...|Not only do my Ti...|2015-08-31 00:00:00|\n",
            "|         US|    8332121|R149Q3B5L33NN5|B00RBX9D5W|     143071132|Apple TV MD199LL/...|Home Entertainment|          5|            0|          0|   N|                Y|    Works perfectly!|Works perfectly! ...|2015-08-31 00:00:00|\n",
            "|         US|   47054962|R2ZVD69Z6KPJ4O|B00UJ3IULO|     567816707|New Roku 3 6.5 Fo...|Home Entertainment|          1|            0|          2|   N|                Y|It doesn't work. ...|It doesn't work. ...|2015-08-31 00:00:00|\n",
            "|         US|   23413911|R1DIKG2G33ZLNP|B0037UCTXG|     909557698|Generic DVI-I Dua...|Home Entertainment|          4|            0|          0|   N|                Y|         As pictured|I received the it...|2015-08-31 00:00:00|\n",
            "|         US|    4417771|R3L6FGKAW0EYFI|B004N866SU|     414565179|Samsung 3D LED HD...|Home Entertainment|          1|            1|          1|   N|                N|Only lasts 3-4 ye...|I bought this TV ...|2015-08-31 00:00:00|\n",
            "|         US|   47900707| RAO0QZH5VC6VI|B00JE6AOJS|     798450889|Jiake Wireless Bl...|Home Entertainment|          1|            0|          0|   N|                Y|            One Star|    Waste of $$$$$$$|2015-08-31 00:00:00|\n",
            "|         US|   34112894|R25IK0UAHWNB22|B00COL0B7A|     777554234|3pcs/lot 3in1 3ft...|Home Entertainment|          3|            0|          0|   N|                Y|         Three Stars|Nice but all thre...|2015-08-31 00:00:00|\n",
            "|         US|   20691979|R2A9IHKZMTMAL1|B00QHLSKOE|     885228855|Matricom G-Box Q²...|Home Entertainment|          5|            1|          2|   N|                Y|Yes...exactly wha...|Oh, yeah...doesn'...|2015-08-31 00:00:00|\n",
            "|         US|   25983343| R5XVKTHL6SITI|B00UNL2MUW|     164482798|VIZIO S2920W-C0B ...|Home Entertainment|          5|            0|          0|   N|                Y|Fantastic sound. ...|Fantastic sound. ...|2015-08-31 00:00:00|\n",
            "|         US|   35816068|R2QZZOSTDDY1IE|B00RIC9JB4|     184834831|Hitachi 49\" Class...|Home Entertainment|          3|            3|          6|   N|                Y|               risky|Great tv but Tv d...|2015-08-31 00:00:00|\n",
            "|         US|   10628020|R38CUDCFPSNYTD|B00HPMCO6O|     444378461|Sony BDPS5200 3D ...|Home Entertainment|          5|            0|          0|   N|                Y|          Five Stars|EXCELLENT SERVICE...|2015-08-31 00:00:00|\n",
            "|         US|    9059625| RM6ZR6NH052YH|B004QGXWS6|     770226547|Sylvania 7-Inch T...|Home Entertainment|          3|            1|          2|   N|                Y|They worked great...|They worked great...|2015-08-31 00:00:00|\n",
            "|         US|    2681147| RUQK5N4WH8UN8|B00FO12XY6|     448806082|Roku HD Streaming...|Home Entertainment|          5|            0|          0|   N|                Y|          Five Stars|Smooth and worked...|2015-08-31 00:00:00|\n",
            "|         US|   33449922|R21LWSBQWWJYZ3|B00BD7UVO4|     374427271|LG Electronics BP...|Home Entertainment|          5|            0|          0|   N|                Y|          Five Stars|     Works very well|2015-08-31 00:00:00|\n",
            "|         US|   43069144| R8W5S53RQ2DF7|B00TRQPEYK|     614207013|LG Electronics LF...|Home Entertainment|          5|            0|          0|   N|                Y|               LG TV|The TV arrived qu...|2015-08-31 00:00:00|\n",
            "|         US|   46780686|R3ENME3JQBWXZS|B005STXQG8|     689442799|SquareTrade TV Pr...|Home Entertainment|          5|            0|          1|   N|                Y|          Five Stars|well worth the mo...|2015-08-31 00:00:00|\n",
            "|         US|   49037595|R3URL5K7DHHYK7|B00BEL11RA|     910670994|Cambridge - Azur ...|Home Entertainment|          5|            1|          1|   N|                Y|            Love it.|Great Blu-ray pla...|2015-08-31 00:00:00|\n",
            "|         US|   27868511|R22YISZKS35YZX|B00QHLSKOE|     885228855|Matricom G-Box Q²...|Home Entertainment|          5|            2|          3|   N|                Y|If your on the fe...|Great media cente...|2015-08-31 00:00:00|\n",
            "|         US|    3004043|R3IIOLWHWC297U|B00MWCJ8VQ|     946374680|Roku 3500XB Strea...|Home Entertainment|          5|            0|          0|   N|                Y|          Five Stars|       great product|2015-08-31 00:00:00|\n",
            "+-----------+-----------+--------------+----------+--------------+--------------------+------------------+-----------+-------------+-----------+----+-----------------+--------------------+--------------------+-------------------+\n",
            "only showing top 20 rows\n",
            "\n"
          ],
          "name": "stdout"
        }
      ]
    },
    {
      "cell_type": "code",
      "metadata": {
        "id": "si48Du3p1k4c",
        "colab_type": "code",
        "outputId": "0fdf8e8f-da35-4ffb-ba75-b3888191be18",
        "colab": {
          "base_uri": "https://localhost:8080/",
          "height": 316
        }
      },
      "source": [
        "# print the data schemata to identify the differents columns\n",
        "homeenter_data_df.printSchema()"
      ],
      "execution_count": 78,
      "outputs": [
        {
          "output_type": "stream",
          "text": [
            "root\n",
            " |-- marketplace: string (nullable = true)\n",
            " |-- customer_id: integer (nullable = true)\n",
            " |-- review_id: string (nullable = true)\n",
            " |-- product_id: string (nullable = true)\n",
            " |-- product_parent: integer (nullable = true)\n",
            " |-- product_title: string (nullable = true)\n",
            " |-- product_category: string (nullable = true)\n",
            " |-- star_rating: integer (nullable = true)\n",
            " |-- helpful_votes: integer (nullable = true)\n",
            " |-- total_votes: integer (nullable = true)\n",
            " |-- vine: string (nullable = true)\n",
            " |-- verified_purchase: string (nullable = true)\n",
            " |-- review_headline: string (nullable = true)\n",
            " |-- review_body: string (nullable = true)\n",
            " |-- review_date: timestamp (nullable = true)\n",
            "\n"
          ],
          "name": "stdout"
        }
      ]
    },
    {
      "cell_type": "code",
      "metadata": {
        "id": "08KF4iFa5C_J",
        "colab_type": "code",
        "colab": {
          "base_uri": "https://localhost:8080/",
          "height": 34
        },
        "outputId": "ff2ca739-774c-401c-820d-b0c60e27cc84"
      },
      "source": [
        "# Get the amount fo rows in the dataframe\n",
        "homeenter_data_df.count()"
      ],
      "execution_count": 79,
      "outputs": [
        {
          "output_type": "execute_result",
          "data": {
            "text/plain": [
              "705889"
            ]
          },
          "metadata": {
            "tags": []
          },
          "execution_count": 79
        }
      ]
    },
    {
      "cell_type": "code",
      "metadata": {
        "id": "zirmPcbYoGdL",
        "colab_type": "code",
        "colab": {
          "base_uri": "https://localhost:8080/",
          "height": 34
        },
        "outputId": "9d16f976-3bb5-4244-c544-0c85d2e7c406"
      },
      "source": [
        "# Drop the na values and drop duplicates values \n",
        "dropna_df = homeenter_data_df.dropna()\n",
        "dropduplicates_df = dropna_df.dropDuplicates()\n",
        "\n",
        "dropduplicates_df.count()"
      ],
      "execution_count": 80,
      "outputs": [
        {
          "output_type": "execute_result",
          "data": {
            "text/plain": [
              "705850"
            ]
          },
          "metadata": {
            "tags": []
          },
          "execution_count": 80
        }
      ]
    },
    {
      "cell_type": "code",
      "metadata": {
        "id": "HIbpbthwohlu",
        "colab_type": "code",
        "colab": {
          "base_uri": "https://localhost:8080/",
          "height": 474
        },
        "outputId": "b18f2cd6-7b91-417d-b664-2e5383beb9c4"
      },
      "source": [
        "from pyspark.sql.functions import to_date\n",
        "# review the DataFrame and transform the date column to date\n",
        "review_id_df = dropduplicates_df.select([\"review_id\", \"customer_id\", \"product_id\", \n",
        "                                       \"product_parent\", \n",
        "                                       to_date(\"review_date\", 'yyyy-MM-dd').alias(\"review_date\")]) # using .alias works as in sql\n",
        "review_id_df.show()"
      ],
      "execution_count": 81,
      "outputs": [
        {
          "output_type": "stream",
          "text": [
            "+--------------+-----------+----------+--------------+-----------+\n",
            "|     review_id|customer_id|product_id|product_parent|review_date|\n",
            "+--------------+-----------+----------+--------------+-----------+\n",
            "|R1022278GSR5QQ|   10950187|B003EX0BVS|     936344876| 2015-02-18|\n",
            "|R102C1L8WG2MV1|   51793406|B00008N6X4|     207746434| 2004-01-14|\n",
            "|R105S0WJL3H3PJ|   52343941|B004GTN0T4|     286560188| 2012-01-08|\n",
            "|R106UUNJS7P59B|   49406745|B005MR6CNK|     682823016| 2013-08-08|\n",
            "|R107KOKFAOFQF1|   22590545|B001VKY7WU|     929595423| 2010-02-17|\n",
            "|R1090POSWG4QEM|   50537528|B001TK3D4U|     345027888| 2009-10-24|\n",
            "|R10A30JROMZ7HB|   34585522|B00F9YYHSI|     909572429| 2013-12-06|\n",
            "|R10BBL6EZ574ZR|   41784316|B00J90X0RC|     720890071| 2014-08-05|\n",
            "|R10CXFW068Q5CH|   45099585|B00AWKBZ0M|     361085603| 2013-09-16|\n",
            "|R10DDPNYQ32Z8R|   16224312|B001TK3D4K|     965006755| 2010-02-20|\n",
            "|R10H9S9FU2TNUI|   17635926|B006ZH0MP0|      55958725| 2013-05-23|\n",
            "|R10IHWCT4WAE4R|   45190365|B004UETB20|     312156652| 2012-03-23|\n",
            "|R10KEYO83C0SSB|   51152156|B000I661J0|     711713824| 2007-07-19|\n",
            "|R10L1D8BOCGXFW|   11138371|B000RZDBM2|     611127351| 2007-12-18|\n",
            "|R10LY7G9IZBYMI|    6680477|B00A7BGMUE|     833826780| 2014-09-06|\n",
            "| R10M1I9M3RIYB|   25102929|B001RPMTTW|     507074436| 2013-12-20|\n",
            "|R10MHLF6T0SY9H|   19486952|B00BIP5BUK|      98796673| 2015-03-12|\n",
            "|R10MTVLX46UNXC|   16358487|B00KL5NWHM|     686015934| 2014-07-25|\n",
            "|R10NSJEM8SXOMY|   10802505|B00BCPH3YS|     634486138| 2013-09-05|\n",
            "|R10QHCHL3017OY|   20386891|B00SHXKC8M|     141120614| 2015-05-11|\n",
            "+--------------+-----------+----------+--------------+-----------+\n",
            "only showing top 20 rows\n",
            "\n"
          ],
          "name": "stdout"
        }
      ]
    },
    {
      "cell_type": "code",
      "metadata": {
        "id": "z9bbzjz2ohpu",
        "colab_type": "code",
        "colab": {}
      },
      "source": [
        "# finding duplicates values by ID and dropping them\n",
        "\n",
        "products_df = homeenter_data_df.select(['product_id', 'product_title'])\n",
        "products_df = products_df.drop_duplicates(subset = ['product_id'])\n",
        "# changed drop_duplicates() for dropDuplicates() important to add the subset \n"
      ],
      "execution_count": 0,
      "outputs": []
    },
    {
      "cell_type": "code",
      "metadata": {
        "id": "W2nZAfkUohuU",
        "colab_type": "code",
        "colab": {
          "base_uri": "https://localhost:8080/",
          "height": 474
        },
        "outputId": "15c6baf3-f501-463d-8376-6f5a33f75df0"
      },
      "source": [
        "new_df = products_df.groupBy('product_id').count().orderBy('count', ascending=False)\n",
        "new_df.show()"
      ],
      "execution_count": 83,
      "outputs": [
        {
          "output_type": "stream",
          "text": [
            "+----------+-----+\n",
            "|product_id|count|\n",
            "+----------+-----+\n",
            "|B00TKOSUDQ|    1|\n",
            "|B00UNL08XA|    1|\n",
            "|B00QNR0LDA|    1|\n",
            "|B00VIRGK6C|    1|\n",
            "|B00SMBFPDG|    1|\n",
            "|B00QGKNP32|    1|\n",
            "|B00LBENEFM|    1|\n",
            "|B000083CUF|    1|\n",
            "|B00NMRSYJ2|    1|\n",
            "|B0014F9U6U|    1|\n",
            "|B00RV9TKKY|    1|\n",
            "|B004QXJJIG|    1|\n",
            "|B00ZOV5M1M|    1|\n",
            "|B004Y45RXI|    1|\n",
            "|B00RVFIQZI|    1|\n",
            "|B00C2CZU18|    1|\n",
            "|B01309NF40|    1|\n",
            "|B005O88CY4|    1|\n",
            "|B00SWHC39E|    1|\n",
            "|B00BP5N574|    1|\n",
            "+----------+-----+\n",
            "only showing top 20 rows\n",
            "\n"
          ],
          "name": "stdout"
        }
      ]
    },
    {
      "cell_type": "code",
      "metadata": {
        "id": "s7LR58aLohxQ",
        "colab_type": "code",
        "colab": {
          "base_uri": "https://localhost:8080/",
          "height": 105
        },
        "outputId": "15f9831d-2250-4fc8-8233-034cc0d5bd2e"
      },
      "source": [
        "# check for duplicates since sql table has a unique condition for product_id Column\n",
        "# products_df.filter(products_df['product_id'] == 'B004NMC1M6').show()"
      ],
      "execution_count": 84,
      "outputs": [
        {
          "output_type": "stream",
          "text": [
            "+----------+-------------+\n",
            "|product_id|product_title|\n",
            "+----------+-------------+\n",
            "+----------+-------------+\n",
            "\n"
          ],
          "name": "stdout"
        }
      ]
    },
    {
      "cell_type": "code",
      "metadata": {
        "id": "uz7d5SpBohz9",
        "colab_type": "code",
        "colab": {
          "base_uri": "https://localhost:8080/",
          "height": 298
        },
        "outputId": "02474691-d083-4d45-d57f-b4f205128968"
      },
      "source": [
        "# reviews df for sql table \n",
        "reviews_df = homeenter_data_df.select(['review_id','review_headline','review_body'])\n",
        "reviews_df.show(10)"
      ],
      "execution_count": 85,
      "outputs": [
        {
          "output_type": "stream",
          "text": [
            "+--------------+--------------------+--------------------+\n",
            "|     review_id|     review_headline|         review_body|\n",
            "+--------------+--------------------+--------------------+\n",
            "| RY01SAV7HZ8QO|good enough for m...|not the best pict...|\n",
            "|R1XX8SDGJ4MZ4L|Tell the Cable Co...|Not only do my Ti...|\n",
            "|R149Q3B5L33NN5|    Works perfectly!|Works perfectly! ...|\n",
            "|R2ZVD69Z6KPJ4O|It doesn't work. ...|It doesn't work. ...|\n",
            "|R1DIKG2G33ZLNP|         As pictured|I received the it...|\n",
            "|R3L6FGKAW0EYFI|Only lasts 3-4 ye...|I bought this TV ...|\n",
            "| RAO0QZH5VC6VI|            One Star|    Waste of $$$$$$$|\n",
            "|R25IK0UAHWNB22|         Three Stars|Nice but all thre...|\n",
            "|R2A9IHKZMTMAL1|Yes...exactly wha...|Oh, yeah...doesn'...|\n",
            "| R5XVKTHL6SITI|Fantastic sound. ...|Fantastic sound. ...|\n",
            "+--------------+--------------------+--------------------+\n",
            "only showing top 10 rows\n",
            "\n"
          ],
          "name": "stdout"
        }
      ]
    },
    {
      "cell_type": "code",
      "metadata": {
        "id": "PHqgROJnzmEQ",
        "colab_type": "code",
        "colab": {
          "base_uri": "https://localhost:8080/",
          "height": 474
        },
        "outputId": "c96b7692-c453-4a27-8bfb-f6e57c1fb826"
      },
      "source": [
        "customer_df = homeenter_data_df.groupby('customer_id').agg({'customer_id': 'count'}).withColumnRenamed('count(customer_id)','customer_count')\n",
        "customer_df.show()"
      ],
      "execution_count": 86,
      "outputs": [
        {
          "output_type": "stream",
          "text": [
            "+-----------+--------------+\n",
            "|customer_id|customer_count|\n",
            "+-----------+--------------+\n",
            "|   10142992|             1|\n",
            "|   16457323|             6|\n",
            "|   11935383|             1|\n",
            "|   46277736|             1|\n",
            "|   13671072|             1|\n",
            "|   21453814|             1|\n",
            "|   17684885|             1|\n",
            "|   20415768|             1|\n",
            "|   15212710|             1|\n",
            "|    5220924|             1|\n",
            "|   46253451|             6|\n",
            "|     971908|             1|\n",
            "|   32829933|             1|\n",
            "|   51221518|             1|\n",
            "|   12002637|             2|\n",
            "|   16105308|             1|\n",
            "|     135867|             1|\n",
            "|   47425808|             1|\n",
            "|   43138273|             1|\n",
            "|   16411995|             1|\n",
            "+-----------+--------------+\n",
            "only showing top 20 rows\n",
            "\n"
          ],
          "name": "stdout"
        }
      ]
    },
    {
      "cell_type": "code",
      "metadata": {
        "id": "dOX9AqRGuhN5",
        "colab_type": "code",
        "colab": {
          "base_uri": "https://localhost:8080/",
          "height": 34
        },
        "outputId": "1c4098ab-317b-4642-b915-78e5a8aac075"
      },
      "source": [
        "customer_df.count()"
      ],
      "execution_count": 87,
      "outputs": [
        {
          "output_type": "execute_result",
          "data": {
            "text/plain": [
              "610080"
            ]
          },
          "metadata": {
            "tags": []
          },
          "execution_count": 87
        }
      ]
    },
    {
      "cell_type": "code",
      "metadata": {
        "id": "aC2NNLyquihV",
        "colab_type": "code",
        "colab": {
          "base_uri": "https://localhost:8080/",
          "height": 298
        },
        "outputId": "a94e068d-581b-4d66-c7ed-18936bc40c8c"
      },
      "source": [
        "vine_df = homeenter_data_df.select(['review_id','star_rating','helpful_votes','total_votes','vine'])\n",
        "vine_df.show(10)\n"
      ],
      "execution_count": 88,
      "outputs": [
        {
          "output_type": "stream",
          "text": [
            "+--------------+-----------+-------------+-----------+----+\n",
            "|     review_id|star_rating|helpful_votes|total_votes|vine|\n",
            "+--------------+-----------+-------------+-----------+----+\n",
            "| RY01SAV7HZ8QO|          4|            0|          0|   N|\n",
            "|R1XX8SDGJ4MZ4L|          5|            0|          0|   N|\n",
            "|R149Q3B5L33NN5|          5|            0|          0|   N|\n",
            "|R2ZVD69Z6KPJ4O|          1|            0|          2|   N|\n",
            "|R1DIKG2G33ZLNP|          4|            0|          0|   N|\n",
            "|R3L6FGKAW0EYFI|          1|            1|          1|   N|\n",
            "| RAO0QZH5VC6VI|          1|            0|          0|   N|\n",
            "|R25IK0UAHWNB22|          3|            0|          0|   N|\n",
            "|R2A9IHKZMTMAL1|          5|            1|          2|   N|\n",
            "| R5XVKTHL6SITI|          5|            0|          0|   N|\n",
            "+--------------+-----------+-------------+-----------+----+\n",
            "only showing top 10 rows\n",
            "\n"
          ],
          "name": "stdout"
        }
      ]
    },
    {
      "cell_type": "markdown",
      "metadata": {
        "id": "jvDEkcSLur5A",
        "colab_type": "text"
      },
      "source": [
        "## Pushing created dfs into AWS RDS postgres connected DB"
      ]
    },
    {
      "cell_type": "code",
      "metadata": {
        "id": "0kzrJP7tuj4X",
        "colab_type": "code",
        "colab": {}
      },
      "source": [
        "mode = 'append'\n",
        "jdbc_url=\"jdbc:postgresql://<endpoint>:5432/Amazon_reviews_db\"\n",
        "config = {\"user\":\"<user>\", \n",
        "          \"password\": \"<password>\", \n",
        "          \"driver\":\"org.postgresql.Driver\"}"
      ],
      "execution_count": 0,
      "outputs": []
    },
    {
      "cell_type": "code",
      "metadata": {
        "id": "JO9imtzyu5su",
        "colab_type": "code",
        "colab": {}
      },
      "source": [
        "# write the review_id_df to the table in RDS\n",
        "review_id_df.write.jdbc(url=jdbc_url, table='review_id_table', mode=mode, properties=config)\n"
      ],
      "execution_count": 0,
      "outputs": []
    },
    {
      "cell_type": "code",
      "metadata": {
        "id": "bnkCNDjvu9DS",
        "colab_type": "code",
        "colab": {}
      },
      "source": [
        "# write the products_df to table in RDS\n",
        "products_df.write.jdbc(url=jdbc_url, table='products', mode=mode, properties=config)"
      ],
      "execution_count": 0,
      "outputs": []
    },
    {
      "cell_type": "code",
      "metadata": {
        "id": "4nFRVZBzvD9D",
        "colab_type": "code",
        "colab": {}
      },
      "source": [
        "# Write customers_df to table in RDS\n",
        "\n",
        "customer_df.write.jdbc(url=jdbc_url, table='customers', mode=mode, properties=config) "
      ],
      "execution_count": 0,
      "outputs": []
    },
    {
      "cell_type": "code",
      "metadata": {
        "id": "3gl0f2cFzf60",
        "colab_type": "code",
        "colab": {}
      },
      "source": [
        "# Write vine_df to table in RDS\n",
        "vine_df.write.jdbc(url=jdbc_url, table='vines', mode=mode, properties=config)"
      ],
      "execution_count": 0,
      "outputs": []
    },
    {
      "cell_type": "code",
      "metadata": {
        "id": "D4h3Dv-Q4XL0",
        "colab_type": "code",
        "colab": {}
      },
      "source": [
        ""
      ],
      "execution_count": 0,
      "outputs": []
    }
  ]
}