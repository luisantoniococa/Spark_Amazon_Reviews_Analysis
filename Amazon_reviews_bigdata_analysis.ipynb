{
  "nbformat": 4,
  "nbformat_minor": 0,
  "metadata": {
    "colab": {
      "name": "Amazon_reviews_bigdata_analysis.ipynb",
      "provenance": [],
      "collapsed_sections": [],
      "authorship_tag": "ABX9TyN4G2DA26Du9aLalEbT8KSq",
      "include_colab_link": true
    },
    "kernelspec": {
      "name": "python3",
      "display_name": "Python 3"
    }
  },
  "cells": [
    {
      "cell_type": "markdown",
      "metadata": {
        "id": "view-in-github",
        "colab_type": "text"
      },
      "source": [
        "<a href=\"https://colab.research.google.com/github/luisantoniococa/Spark_Big_Data_Amazon_Reviews_Analysis/blob/master/Amazon_reviews_bigdata_analysis.ipynb\" target=\"_parent\"><img src=\"https://colab.research.google.com/assets/colab-badge.svg\" alt=\"Open In Colab\"/></a>"
      ]
    },
    {
      "cell_type": "code",
      "metadata": {
        "id": "StA-SHu8G4Xf",
        "colab_type": "code",
        "colab": {}
      },
      "source": [
        "# Install Java, Spark, and Findspark\n",
        "!apt-get install openjdk-8-jdk-headless -qq > /dev/null\n",
        "!wget -q http://www-us.apache.org/dist/spark/spark-2.4.5/spark-2.4.5-bin-hadoop2.7.tgz\n",
        "!tar xf spark-2.4.5-bin-hadoop2.7.tgz\n",
        "!pip install -q findspark\n",
        "\n",
        "# Set Environment Variables\n",
        "import os\n",
        "os.environ[\"JAVA_HOME\"] = \"/usr/lib/jvm/java-8-openjdk-amd64\"\n",
        "os.environ[\"SPARK_HOME\"] = \"/content/spark-2.4.5-bin-hadoop2.7\"\n",
        "\n",
        "# Start a SparkSession\n",
        "import findspark\n",
        "findspark.init()"
      ],
      "execution_count": 0,
      "outputs": []
    },
    {
      "cell_type": "code",
      "metadata": {
        "id": "mty-ACwuz7On",
        "colab_type": "code",
        "outputId": "89750d88-d22c-43a7-de32-377aa45b4e53",
        "colab": {
          "base_uri": "https://localhost:8080/",
          "height": 202
        }
      },
      "source": [
        "!wget https://jdbc.postgresql.org/download/postgresql-42.2.9.jar"
      ],
      "execution_count": 2,
      "outputs": [
        {
          "output_type": "stream",
          "text": [
            "--2020-04-15 18:32:59--  https://jdbc.postgresql.org/download/postgresql-42.2.9.jar\n",
            "Resolving jdbc.postgresql.org (jdbc.postgresql.org)... 72.32.157.228, 2001:4800:3e1:1::228\n",
            "Connecting to jdbc.postgresql.org (jdbc.postgresql.org)|72.32.157.228|:443... connected.\n",
            "HTTP request sent, awaiting response... 200 OK\n",
            "Length: 914037 (893K) [application/java-archive]\n",
            "Saving to: ‘postgresql-42.2.9.jar’\n",
            "\n",
            "postgresql-42.2.9.j 100%[===================>] 892.61K  3.89MB/s    in 0.2s    \n",
            "\n",
            "2020-04-15 18:33:00 (3.89 MB/s) - ‘postgresql-42.2.9.jar’ saved [914037/914037]\n",
            "\n"
          ],
          "name": "stdout"
        }
      ]
    },
    {
      "cell_type": "code",
      "metadata": {
        "id": "VIXjwKgrHZqf",
        "colab_type": "code",
        "colab": {}
      },
      "source": [
        "from pyspark.sql import SparkSession\n",
        "spark = SparkSession.builder.appName(\"CloudETL\").config(\"spark.driver.extraClassPath\",\"/content/postgresql-42.2.9.jar\").getOrCreate()"
      ],
      "execution_count": 0,
      "outputs": []
    },
    {
      "cell_type": "code",
      "metadata": {
        "id": "udzEwSakHf6L",
        "colab_type": "code",
        "colab": {
          "base_uri": "https://localhost:8080/",
          "height": 134
        },
        "outputId": "67dab3b7-ee30-461a-a1e9-7867088298ea"
      },
      "source": [
        "# first it connects to the database that was created earlier and extract infomation into a dataframe\n",
        "vine_df = spark.read \\\n",
        "    .format(\"jdbc\") \\\n",
        "    .option(\"url\", \"jdbc:postgresql://<endpoint>:5432/Amazon_reviews_db\") \\\n",
        "    .option(\"dbtable\", \"vines\") \\\n",
        "    .option(\"user\", \"<user>\") \\\n",
        "    .option(\"password\", \"<password>\") \\\n",
        "    .option(\"driver\", \"org.postgresql.Driver\") \\\n",
        "    .load()\n",
        "# print the schemata from the database\n",
        "vine_df.printSchema()"
      ],
      "execution_count": 5,
      "outputs": [
        {
          "output_type": "stream",
          "text": [
            "root\n",
            " |-- review_id: string (nullable = true)\n",
            " |-- star_rating: string (nullable = true)\n",
            " |-- helpful_votes: integer (nullable = true)\n",
            " |-- total_votes: integer (nullable = true)\n",
            " |-- vine: string (nullable = true)\n",
            "\n"
          ],
          "name": "stdout"
        }
      ]
    },
    {
      "cell_type": "code",
      "metadata": {
        "id": "u4dvzUxxH-kV",
        "colab_type": "code",
        "colab": {
          "base_uri": "https://localhost:8080/",
          "height": 370
        },
        "outputId": "8e999270-6590-4b9a-9505-31d19a12661f"
      },
      "source": [
        "# show first 15 values in df\n",
        "vine_df.show(15)"
      ],
      "execution_count": 6,
      "outputs": [
        {
          "output_type": "stream",
          "text": [
            "+--------------+-----------+-------------+-----------+----+\n",
            "|     review_id|star_rating|helpful_votes|total_votes|vine|\n",
            "+--------------+-----------+-------------+-----------+----+\n",
            "|R135Q3VZ4DQN5N|          5|            0|          0|   N|\n",
            "|R2N0QQ6R4T7YRY|          5|            0|          0|   N|\n",
            "|R3N5JE5Y4T6W5M|          5|            0|          0|   N|\n",
            "|R2I150CX5IVY9Q|          5|            0|          0|   N|\n",
            "|R1RM9ICOOA9MQ3|          5|            0|          0|   N|\n",
            "|R2J2KMDL10UMSH|          5|            0|          0|   N|\n",
            "|R3R9ZUFA4TB4FQ|          5|            0|          0|   N|\n",
            "|R3UQ8VAQN7R6WL|          5|            0|          0|   N|\n",
            "|R1FXZ69C01JNQM|          5|            0|          0|   N|\n",
            "| RY36LB4OW0FFS|          5|            0|          0|   N|\n",
            "| R6PKS54PC6ZY2|          1|            4|          4|   N|\n",
            "|R1LYSAH0IECVWB|          5|            0|          0|   N|\n",
            "|R1UN0IZI3XQ3E2|          5|            2|          3|   N|\n",
            "| RIKDXD8QGL99S|          5|            1|          1|   N|\n",
            "| RUZCQTXZVGUFH|          4|            1|          1|   N|\n",
            "+--------------+-----------+-------------+-----------+----+\n",
            "only showing top 15 rows\n",
            "\n"
          ],
          "name": "stdout"
        }
      ]
    },
    {
      "cell_type": "code",
      "metadata": {
        "id": "poNoFu_JICRe",
        "colab_type": "code",
        "colab": {
          "base_uri": "https://localhost:8080/",
          "height": 454
        },
        "outputId": "c1cf5f3d-a05e-4ff6-ae0f-1f24d2698469"
      },
      "source": [
        "# filtering helpful reviews, 20 votes or more and have at least 50% positive votes\n",
        "helpful_df = vine_df.filter(vine_df['total_votes']>=20)\n",
        "\n",
        "helpful_df2 = helpful_df.filter(helpful_df['helpful_votes']/helpful_df['total_votes']>= 0.5)\n",
        "helpful_df2.show()"
      ],
      "execution_count": 7,
      "outputs": [
        {
          "output_type": "stream",
          "text": [
            "+--------------+-----------+-------------+-----------+----+\n",
            "|     review_id|star_rating|helpful_votes|total_votes|vine|\n",
            "+--------------+-----------+-------------+-----------+----+\n",
            "|R16YC6SMGKA8SR|          5|           23|         23|   N|\n",
            "| R5O4WE9UM60B0|          1|           29|         29|   N|\n",
            "|R2EKRVCRC7U0IY|          1|           22|         24|   N|\n",
            "|R2OKV47GETH0L7|          5|           24|         24|   N|\n",
            "| R36LII9IITE17|          1|           22|         24|   N|\n",
            "|R35VKNE16PFY0H|          5|           22|         24|   N|\n",
            "|R3TG008LHHZZIN|          5|          123|        125|   N|\n",
            "|R2FYQBKCC1XG4M|          5|           20|         20|   N|\n",
            "| R63PV336NI5X7|          1|           27|         28|   N|\n",
            "|R1R42WPHB5ZSWI|          5|           51|         52|   N|\n",
            "| RXSS0QZJE1TEO|          1|           35|         35|   N|\n",
            "| RGS9C5XKWVYP9|          1|           24|         24|   N|\n",
            "|R3R5BWMKH1EUIQ|          5|           26|         27|   N|\n",
            "|R2KBDT7RGO1G86|          3|           33|         39|   N|\n",
            "|R2WA09RFYT69GB|          5|           21|         22|   N|\n",
            "| RYNTUAMCHU3W4|          5|           22|         22|   N|\n",
            "|R3U5NCDM6NLHLC|          5|           29|         30|   N|\n",
            "| R8708W8U0Z89A|          2|           37|         38|   N|\n",
            "| RFT7R66D3SA54|          5|           23|         24|   N|\n",
            "|R1OI5TTOS49U8R|          5|           33|         34|   N|\n",
            "+--------------+-----------+-------------+-----------+----+\n",
            "only showing top 20 rows\n",
            "\n"
          ],
          "name": "stdout"
        }
      ]
    },
    {
      "cell_type": "code",
      "metadata": {
        "colab_type": "code",
        "outputId": "a70d54c1-def1-4496-ab8f-8cc4c0e2a821",
        "id": "RVC-vQmqONfc",
        "colab": {
          "base_uri": "https://localhost:8080/",
          "height": 648
        }
      },
      "source": [
        "import matplotlib.pyplot as plt\n",
        "import pandas as pd\n",
        "import seaborn as sns\n",
        "%matplotlib inline\n"
      ],
      "execution_count": 0,
      "outputs": [
        {
          "output_type": "stream",
          "text": [
            "+--------------+-----------+-------------+-----------+----+\n",
            "|     review_id|star_rating|helpful_votes|total_votes|vine|\n",
            "+--------------+-----------+-------------+-----------+----+\n",
            "|R16YC6SMGKA8SR|          5|           23|         23|   N|\n",
            "| R5O4WE9UM60B0|          1|           29|         29|   N|\n",
            "|R2EKRVCRC7U0IY|          1|           22|         24|   N|\n",
            "|R2OKV47GETH0L7|          5|           24|         24|   N|\n",
            "| R36LII9IITE17|          1|           22|         24|   N|\n",
            "|R3TG008LHHZZIN|          5|          123|        125|   N|\n",
            "|R35VKNE16PFY0H|          5|           22|         24|   N|\n",
            "| R63PV336NI5X7|          1|           27|         28|   N|\n",
            "|R2FYQBKCC1XG4M|          5|           20|         20|   N|\n",
            "| RGS9C5XKWVYP9|          1|           24|         24|   N|\n",
            "|R3R5BWMKH1EUIQ|          5|           26|         27|   N|\n",
            "|R1V4IQ6DBQQVVM|          5|           31|         33|   N|\n",
            "| R8E254ARTMOH2|          5|           42|         42|   N|\n",
            "| R6HKG5VVEAFPQ|          5|           22|         24|   N|\n",
            "|R1R42WPHB5ZSWI|          5|           51|         52|   N|\n",
            "| RXSS0QZJE1TEO|          1|           35|         35|   N|\n",
            "|R2KBDT7RGO1G86|          3|           33|         39|   N|\n",
            "|R2WA09RFYT69GB|          5|           21|         22|   N|\n",
            "| RYNTUAMCHU3W4|          5|           22|         22|   N|\n",
            "|R3U5NCDM6NLHLC|          5|           29|         30|   N|\n",
            "+--------------+-----------+-------------+-----------+----+\n",
            "only showing top 20 rows\n",
            "\n"
          ],
          "name": "stdout"
        },
        {
          "output_type": "execute_result",
          "data": {
            "text/html": [
              "<div>\n",
              "<style scoped>\n",
              "    .dataframe tbody tr th:only-of-type {\n",
              "        vertical-align: middle;\n",
              "    }\n",
              "\n",
              "    .dataframe tbody tr th {\n",
              "        vertical-align: top;\n",
              "    }\n",
              "\n",
              "    .dataframe thead th {\n",
              "        text-align: right;\n",
              "    }\n",
              "</style>\n",
              "<table border=\"1\" class=\"dataframe\">\n",
              "  <thead>\n",
              "    <tr style=\"text-align: right;\">\n",
              "      <th></th>\n",
              "      <th>review_id</th>\n",
              "      <th>star_rating</th>\n",
              "      <th>helpful_votes</th>\n",
              "      <th>total_votes</th>\n",
              "      <th>vine</th>\n",
              "    </tr>\n",
              "  </thead>\n",
              "  <tbody>\n",
              "    <tr>\n",
              "      <th>0</th>\n",
              "      <td>R16YC6SMGKA8SR</td>\n",
              "      <td>5</td>\n",
              "      <td>23</td>\n",
              "      <td>23</td>\n",
              "      <td>N</td>\n",
              "    </tr>\n",
              "    <tr>\n",
              "      <th>1</th>\n",
              "      <td>R5O4WE9UM60B0</td>\n",
              "      <td>1</td>\n",
              "      <td>29</td>\n",
              "      <td>29</td>\n",
              "      <td>N</td>\n",
              "    </tr>\n",
              "    <tr>\n",
              "      <th>2</th>\n",
              "      <td>R2EKRVCRC7U0IY</td>\n",
              "      <td>1</td>\n",
              "      <td>22</td>\n",
              "      <td>24</td>\n",
              "      <td>N</td>\n",
              "    </tr>\n",
              "    <tr>\n",
              "      <th>3</th>\n",
              "      <td>R2OKV47GETH0L7</td>\n",
              "      <td>5</td>\n",
              "      <td>24</td>\n",
              "      <td>24</td>\n",
              "      <td>N</td>\n",
              "    </tr>\n",
              "    <tr>\n",
              "      <th>4</th>\n",
              "      <td>R36LII9IITE17</td>\n",
              "      <td>1</td>\n",
              "      <td>22</td>\n",
              "      <td>24</td>\n",
              "      <td>N</td>\n",
              "    </tr>\n",
              "  </tbody>\n",
              "</table>\n",
              "</div>"
            ],
            "text/plain": [
              "        review_id star_rating  helpful_votes  total_votes vine\n",
              "0  R16YC6SMGKA8SR           5             23           23    N\n",
              "1   R5O4WE9UM60B0           1             29           29    N\n",
              "2  R2EKRVCRC7U0IY           1             22           24    N\n",
              "3  R2OKV47GETH0L7           5             24           24    N\n",
              "4   R36LII9IITE17           1             22           24    N"
            ]
          },
          "metadata": {
            "tags": []
          },
          "execution_count": 11
        }
      ]
    },
    {
      "cell_type": "code",
      "metadata": {
        "id": "pNd60Mf5OQUm",
        "colab_type": "code",
        "colab": {}
      },
      "source": [
        "for_plot_helpful_df2 = helpful_df2.limit(25)\n",
        "for_plot_helpful_df2.show()\n",
        "for_plot_helpful_df2 = for_plot_helpful_df2.toPandas()\n",
        "for_plot_helpful_df2.head()"
      ],
      "execution_count": 0,
      "outputs": []
    },
    {
      "cell_type": "code",
      "metadata": {
        "id": "9TdV6fgaM_Ov",
        "colab_type": "code",
        "colab": {
          "base_uri": "https://localhost:8080/",
          "height": 502
        },
        "outputId": "7585d000-e087-49ff-a80a-0117f69d4f96"
      },
      "source": [
        "sns.set(style=\"whitegrid\")\n",
        "f, ax = plt.subplots(figsize=(10, 8 ))\n",
        "for_plot_helpful_df2['percent'] = for_plot_helpful_df2['helpful_votes']/for_plot_helpful_df2['total_votes']\n",
        "\n",
        "ax = sns.barplot(y=\"review_id\", x=\"percent\", data=for_plot_helpful_df2.sort_values(by=['percent'],ascending=False) ,orient = 'h',ci=float)\n",
        "\n",
        "\n"
      ],
      "execution_count": 29,
      "outputs": [
        {
          "output_type": "display_data",
          "data": {
            "image/png": "[encoded data removed]",
            "text/plain": [
              "<Figure size 720x576 with 1 Axes>"
            ]
          },
          "metadata": {
            "tags": []
          }
        }
      ]
    },
    {
      "cell_type": "code",
      "metadata": {
        "id": "bhpBbR6EKMrO",
        "colab_type": "code",
        "colab": {
          "base_uri": "https://localhost:8080/",
          "height": 386
        },
        "outputId": "f4572f8d-86d6-42c3-c2f3-739e9821a127"
      },
      "source": [
        "# Two dataframes were created for vine and non-vine reviews and then used describe was used to extract basic statistical information\n",
        "from pyspark.sql.functions import col, avg\n",
        "paid_df = helpful_df2.filter(helpful_df2['vine']== 'Y')\n",
        "unpaid_df = helpful_df2.filter(helpful_df2['vine']== 'N')\n",
        "\n",
        "print('Paid Summary')\n",
        "paid_df.describe().show()\n",
        "print('Unpaid Summary')\n",
        "unpaid_df.describe().show()\n"
      ],
      "execution_count": 32,
      "outputs": [
        {
          "output_type": "stream",
          "text": [
            "Paid Summary\n",
            "+-------+--------------+------------------+------------------+------------------+----+\n",
            "|summary|     review_id|       star_rating|     helpful_votes|       total_votes|vine|\n",
            "+-------+--------------+------------------+------------------+------------------+----+\n",
            "|  count|           282|               282|               282|               282| 282|\n",
            "|   mean|          null| 4.127659574468085| 72.25531914893617| 81.04609929078015|null|\n",
            "| stddev|          null|0.9458737046734623|131.59370255326482|140.00036096431882|null|\n",
            "|    min|R10M9JYKC8GX2J|                 1|                14|                20|   Y|\n",
            "|    max| RZ9LVVFM49QBL|                 5|              1751|              1861|   Y|\n",
            "+-------+--------------+------------------+------------------+------------------+----+\n",
            "\n",
            "Unpaid Summary\n",
            "+-------+--------------+------------------+-----------------+-----------------+-----+\n",
            "|summary|     review_id|       star_rating|    helpful_votes|      total_votes| vine|\n",
            "+-------+--------------+------------------+-----------------+-----------------+-----+\n",
            "|  count|         31729|             31729|            31729|            31729|31729|\n",
            "|   mean|          null| 3.680450061457972|57.96602477229033|64.06130038765798| null|\n",
            "| stddev|          null|1.5743175963766938|168.3610575711146|179.1463374724393| null|\n",
            "|    min|R1008K4CSFYDZH|                 1|               10|               20|    N|\n",
            "|    max| RZZANCVZNVUP4|                 5|            10020|            10462|    N|\n",
            "+-------+--------------+------------------+-----------------+-----------------+-----+\n",
            "\n"
          ],
          "name": "stdout"
        }
      ]
    },
    {
      "cell_type": "code",
      "metadata": {
        "id": "1vRbSmNjgH2T",
        "colab_type": "code",
        "colab": {
          "base_uri": "https://localhost:8080/",
          "height": 67
        },
        "outputId": "b94301e1-7d58-4e81-c441-5072185ab35a"
      },
      "source": [
        "# look for the percent of vine reviews that have 5 stars and are paid\n",
        "paid_five_stars_number = paid_df[paid_df['star_rating']== 5].count()\n",
        "paid_number = paid_df.count()\n",
        "percentage_five_stars_vine = float(paid_five_stars_number)/float(paid_number)\n",
        "print(f'total paid reviews: {paid_number}')\n",
        "print(f'total five stars paid reviews: {paid_five_stars_number}')\n",
        "print(f'percentage of five stars reviews vine:  {percentage_five_stars_vine}')"
      ],
      "execution_count": 39,
      "outputs": [
        {
          "output_type": "stream",
          "text": [
            "total paid reviews: 282\n",
            "total five stars paid reviews: 117\n",
            "percentage of five stars reviews vine:  0.4148936170212766\n"
          ],
          "name": "stdout"
        }
      ]
    },
    {
      "cell_type": "code",
      "metadata": {
        "id": "PbuuGdWOtgkO",
        "colab_type": "code",
        "colab": {
          "base_uri": "https://localhost:8080/",
          "height": 67
        },
        "outputId": "64190b24-51a2-4d4c-d502-4bd4bb2f628a"
      },
      "source": [
        "# look at the difference for the percent of vine reviews that have 5 stars and are unpaid\n",
        "unpaid_five_stars_number = unpaid_df[paid_df['star_rating']== 5].count()\n",
        "unpaid_number = unpaid_df.count()\n",
        "percentage_five_stars_non_vine = float(unpaid_five_stars_number)/float(unpaid_number)\n",
        "print(f'total unpaid reviews: {unpaid_number}')\n",
        "print(f'total five stars unpaid reviews: {unpaid_five_stars_number}')\n",
        "print(f'percentage of five stars reviews non vine:  {percentage_five_stars_non_vine}')"
      ],
      "execution_count": 40,
      "outputs": [
        {
          "output_type": "stream",
          "text": [
            "total unpaid reviews: 31729\n",
            "total five stars unpaid reviews: 15343\n",
            "percentage of five stars reviews non vine:  0.48356393204954456\n"
          ],
          "name": "stdout"
        }
      ]
    },
    {
      "cell_type": "code",
      "metadata": {
        "id": "TWQQ4G-UvPHz",
        "colab_type": "code",
        "colab": {
          "base_uri": "https://localhost:8080/",
          "height": 106
        },
        "outputId": "d3ca0cda-a32e-4894-a1eb-0f6ae56760cc"
      },
      "source": [
        "df_pandas = pd.DataFrame({'review_nums':[paid_number,unpaid_number], 'five_stars_reviews_num':[paid_five_stars_number,unpaid_five_stars_number]})\n",
        "df_pandas"
      ],
      "execution_count": 42,
      "outputs": [
        {
          "output_type": "execute_result",
          "data": {
            "text/html": [
              "<div>\n",
              "<style scoped>\n",
              "    .dataframe tbody tr th:only-of-type {\n",
              "        vertical-align: middle;\n",
              "    }\n",
              "\n",
              "    .dataframe tbody tr th {\n",
              "        vertical-align: top;\n",
              "    }\n",
              "\n",
              "    .dataframe thead th {\n",
              "        text-align: right;\n",
              "    }\n",
              "</style>\n",
              "<table border=\"1\" class=\"dataframe\">\n",
              "  <thead>\n",
              "    <tr style=\"text-align: right;\">\n",
              "      <th></th>\n",
              "      <th>review_nums</th>\n",
              "      <th>five_stars_reviews_num</th>\n",
              "    </tr>\n",
              "  </thead>\n",
              "  <tbody>\n",
              "    <tr>\n",
              "      <th>0</th>\n",
              "      <td>282</td>\n",
              "      <td>117</td>\n",
              "    </tr>\n",
              "    <tr>\n",
              "      <th>1</th>\n",
              "      <td>31729</td>\n",
              "      <td>15343</td>\n",
              "    </tr>\n",
              "  </tbody>\n",
              "</table>\n",
              "</div>"
            ],
            "text/plain": [
              "   review_nums  five_stars_reviews_num\n",
              "0          282                     117\n",
              "1        31729                   15343"
            ]
          },
          "metadata": {
            "tags": []
          },
          "execution_count": 42
        }
      ]
    },
    {
      "cell_type": "code",
      "metadata": {
        "id": "WpAhiVcVyeK8",
        "colab_type": "code",
        "colab": {
          "base_uri": "https://localhost:8080/",
          "height": 302
        },
        "outputId": "1a753dab-fe35-4826-b4a4-0ace18839fe0"
      },
      "source": [
        "sns.barplot(y=\"review_nums\", x=\"five_stars_reviews_num\", data=df_pandas)"
      ],
      "execution_count": 43,
      "outputs": [
        {
          "output_type": "execute_result",
          "data": {
            "text/plain": [
              "<matplotlib.axes._subplots.AxesSubplot at 0x7f227ee91a90>"
            ]
          },
          "metadata": {
            "tags": []
          },
          "execution_count": 43
        },
        {
          "output_type": "display_data",
          "data": {
            "image/png": "[encoded data removed]",
            "text/plain": [
              "<Figure size 432x288 with 1 Axes>"
            ]
          },
          "metadata": {
            "tags": []
          }
        }
      ]
    },
    {
      "cell_type": "code",
      "metadata": {
        "id": "w2mdDCjI0JQr",
        "colab_type": "code",
        "colab": {}
      },
      "source": [
        ""
      ],
      "execution_count": 0,
      "outputs": []
    }
  ]
}